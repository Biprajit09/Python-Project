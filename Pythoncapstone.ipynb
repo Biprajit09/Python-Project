{
 "cells": [
  {
   "cell_type": "code",
   "execution_count": 2,
   "id": "1f271159-c858-48bc-a5f6-f4a4381d5fbf",
   "metadata": {},
   "outputs": [],
   "source": [
    "# Importing necessary libraries for data manipulation, analysis and visualization\n",
    "import pandas as pd\n",
    "import numpy as np"
   ]
  },
  {
   "cell_type": "code",
   "execution_count": 3,
   "id": "0451e67e-2168-4d06-a432-d7e3439edabb",
   "metadata": {},
   "outputs": [
    {
     "name": "stdout",
     "output_type": "stream",
     "text": [
      "{'ID': ['A001', 'A002', 'A003', 'A004', 'A005', 'A002', 'A005', 'A003', 'A001', 'A003', 'A001', 'A004', 'A004', 'A005'], 'Project': ['Project 1', 'Project 2', 'Project 3', 'Project 4', 'Project 5', 'Project 6', 'Project 7', 'Project 8', 'Project 9', 'Project 10', 'Project 11', 'Project 12', 'Project 13', 'Project 14'], 'Cost': [1002000, 2000000, 4500000, 5500000, None, 680000, 400000, 350000, None, 300000, 2000000, 1000000, 3000000, 200000], 'Status': ['Finished', 'Ongoing', 'Finished', 'Ongoing', 'Finished', 'Failed', 'Finished', 'Failed', 'Ongoing', 'Finished', 'Failed', 'Ongoing', 'Finished', 'Finished']} {'ID': ['A001', 'A002', 'A003', 'A004', 'A005'], 'Name': ['John Alter', 'Alice Luxumberg', 'Tom Sabestine', 'Nina Adgra', 'Amy Johny'], 'Gender': ['M', 'F', 'M', 'F', 'F'], 'City': ['Paris', 'London', 'Berlin', 'Newyork', 'Madrid'], 'Age': [25, 27, 29, 31, 30]} {'ID': ['A001', 'A002', 'A003', 'A004', 'A005'], 'DesignationLevel': [2, 2, 3, 2, 3]}\n"
     ]
    }
   ],
   "source": [
    "# Task 1\n",
    "# Creating a dictionary\n",
    "project = {\n",
    "    'ID': ['A001', 'A002', 'A003', 'A004', 'A005', 'A002', 'A005', 'A003', 'A001', 'A003', 'A001', 'A004', 'A004', 'A005'],\n",
    "    'Project': ['Project 1', 'Project 2', 'Project 3', 'Project 4', 'Project 5', 'Project 6', 'Project 7', 'Project 8', 'Project 9', 'Project 10', 'Project 11', 'Project 12', 'Project 13', 'Project 14'],\n",
    "    'Cost': [1002000, 2000000, 4500000, 5500000, None, 680000, 400000, 350000, None, 300000, 2000000, 1000000, 3000000, 200000],\n",
    "    'Status': ['Finished', 'Ongoing', 'Finished', 'Ongoing', 'Finished', 'Failed', 'Finished', 'Failed', 'Ongoing', 'Finished', 'Failed', 'Ongoing', 'Finished', 'Finished']\n",
    "}\n",
    "employee = {\n",
    "    'ID': ['A001','A002','A003','A004','A005'],\n",
    "    'Name':\t['John Alter','Alice Luxumberg','Tom Sabestine','Nina Adgra','Amy Johny'],\n",
    "    'Gender':['M','F','M','F','F'],\n",
    "    'City'\t:['Paris','London','Berlin','Newyork','Madrid'],\n",
    "    'Age' :\t[25,27,29,31,30]\n",
    "}\n",
    "seniority_level = {\n",
    "    'ID': ['A001','A002','A003','A004','A005'],\n",
    "    'DesignationLevel' : [2,2,3,2,3]\n",
    "}\n",
    "print(project,employee,seniority_level)"
   ]
  },
  {
   "cell_type": "code",
   "execution_count": 4,
   "id": "ca5d4fa0-1834-4114-a06f-8b2619805016",
   "metadata": {},
   "outputs": [],
   "source": [
    "# creating a dataframe from a dictionary \n",
    "df1 = pd.DataFrame(project)\n",
    "df2 = pd.DataFrame(employee)\n",
    "df3 = pd.DataFrame(seniority_level)\n",
    "# Save DataFrame as CSV                                  \n",
    "df1.to_csv('project_data.csv', index=False)\n",
    "df2.to_csv('employee_data.csv', index=False)\n",
    "df3.to_csv('seniority_level_data.csv', index=False)"
   ]
  },
  {
   "cell_type": "code",
   "execution_count": 5,
   "id": "77c3ffa0-4135-4408-af51-8b6f47802080",
   "metadata": {},
   "outputs": [
    {
     "name": "stdout",
     "output_type": "stream",
     "text": [
      "     ID             Name Gender     City  Age\n",
      "0  A001       John Alter      M    Paris   25\n",
      "1  A002  Alice Luxumberg      F   London   27\n",
      "2  A003    Tom Sabestine      M   Berlin   29\n",
      "3  A004       Nina Adgra      F  Newyork   31\n",
      "4  A005        Amy Johny      F   Madrid   30\n"
     ]
    }
   ],
   "source": [
    "# Specify the file path\n",
    "file_path1 = 'project_data.csv'\n",
    "file_path2 = 'employee_data.csv'\n",
    "file_path3 = 'seniority_level_data.csv'\n",
    "# Read the CSV file into a DataFrame\n",
    "df_imported1 = pd.read_csv(file_path1)\n",
    "df_imported2 = pd.read_csv(file_path2)\n",
    "df_imported3 = pd.read_csv(file_path3)\n",
    "print(df_imported2)"
   ]
  },
  {
   "cell_type": "code",
   "execution_count": 6,
   "id": "803ee044-d27b-4209-8730-e620c59882bf",
   "metadata": {},
   "outputs": [
    {
     "name": "stdout",
     "output_type": "stream",
     "text": [
      "      ID     Project       Cost    Status\n",
      "0   A001   Project 1 1002000.00  Finished\n",
      "1   A002   Project 2 2000000.00   Ongoing\n",
      "2   A003   Project 3 4500000.00  Finished\n",
      "3   A004   Project 4 5500000.00   Ongoing\n",
      "4   A005   Project 5 3250500.00  Finished\n",
      "5   A002   Project 6  680000.00    Failed\n",
      "6   A005   Project 7  400000.00  Finished\n",
      "7   A003   Project 8  350000.00    Failed\n",
      "8   A001   Project 9 2061714.29   Ongoing\n",
      "9   A003  Project 10  300000.00  Finished\n",
      "10  A001  Project 11 2000000.00    Failed\n",
      "11  A004  Project 12 1000000.00   Ongoing\n",
      "12  A004  Project 13 3000000.00  Finished\n",
      "13  A005  Project 14  200000.00  Finished\n"
     ]
    }
   ],
   "source": [
    "# Task2\n",
    "# Initialize variables for running sum and count\n",
    "running_sum = 0\n",
    "count = 0\n",
    "\n",
    "# Iterate over the 'Cost' column\n",
    "for i in range(len(df_imported1)):\n",
    "    if pd.isna(df_imported1.at[i, 'Cost']):\n",
    "        # If the value is missing, replace it with the running average\n",
    "        if count > 0:\n",
    "           df_imported1.at[i, 'Cost'] = running_sum / count\n",
    "    else:\n",
    "        # If the value is not missing, update running sum and count\n",
    "        running_sum += df_imported1.at[i, 'Cost']\n",
    "        count += 1\n",
    "# Set pandas to display numbers in standard decimal notation\n",
    "pd.options.display.float_format = '{:.2f}'.format\n",
    "# Display the updated DataFrame\n",
    "print(df_imported1)"
   ]
  },
  {
   "cell_type": "code",
   "execution_count": 7,
   "id": "1d3ec083-4281-420a-a03b-4291f7144570",
   "metadata": {},
   "outputs": [
    {
     "name": "stdout",
     "output_type": "stream",
     "text": [
      "Index(['ID', 'Project', 'Cost', 'Status'], dtype='object')\n"
     ]
    }
   ],
   "source": [
    "print(df_imported1.columns)"
   ]
  },
  {
   "cell_type": "code",
   "execution_count": 8,
   "id": "45ecc9a2-b74b-401a-8831-a856b1aa738a",
   "metadata": {},
   "outputs": [
    {
     "name": "stdout",
     "output_type": "stream",
     "text": [
      "  First Name  Last Name    ID Gender     City  Age\n",
      "0       John      Alter  A001      M    Paris   25\n",
      "1      Alice  Luxumberg  A002      F   London   27\n",
      "2        Tom  Sabestine  A003      M   Berlin   29\n",
      "3       Nina      Adgra  A004      F  Newyork   31\n",
      "4        Amy      Johny  A005      F   Madrid   30\n"
     ]
    }
   ],
   "source": [
    "# Task 3\n",
    "# Split the \"name\" column into \"First Name\" and \"Last Name\" columns\n",
    "df_imported2[['First Name', 'Last Name']] = df_imported2['Name'].str.split(n=1, expand=True)\n",
    "\n",
    "# Reorder the columns to place \"First Name\" and \"Last Name\" at the beginning\n",
    "new_column_order = ['First Name', 'Last Name'] + [col for col in df_imported2.columns if col not in ['First Name', 'Last Name']]\n",
    "df_imported2 = df_imported2[new_column_order]\n",
    "\n",
    "# Drop the original \"name\" column\n",
    "df_imported2.drop('Name', axis=1, inplace=True)\n",
    "print(df_imported2)"
   ]
  },
  {
   "cell_type": "code",
   "execution_count": 9,
   "id": "af49104b-ede3-4a0b-be62-00c4a7a0777b",
   "metadata": {},
   "outputs": [
    {
     "name": "stdout",
     "output_type": "stream",
     "text": [
      "      ID     Project       Cost    Status First Name  Last Name Gender  \\\n",
      "0   A001   Project 1 1002000.00  Finished       John      Alter      M   \n",
      "1   A002   Project 2 2000000.00   Ongoing      Alice  Luxumberg      F   \n",
      "2   A003   Project 3 4500000.00  Finished        Tom  Sabestine      M   \n",
      "3   A004   Project 4 5500000.00   Ongoing       Nina      Adgra      F   \n",
      "4   A005   Project 5 3250500.00  Finished        Amy      Johny      F   \n",
      "5   A002   Project 6  680000.00    Failed      Alice  Luxumberg      F   \n",
      "6   A005   Project 7  400000.00  Finished        Amy      Johny      F   \n",
      "7   A003   Project 8  350000.00    Failed        Tom  Sabestine      M   \n",
      "8   A001   Project 9 2061714.29   Ongoing       John      Alter      M   \n",
      "9   A003  Project 10  300000.00  Finished        Tom  Sabestine      M   \n",
      "10  A001  Project 11 2000000.00    Failed       John      Alter      M   \n",
      "11  A004  Project 12 1000000.00   Ongoing       Nina      Adgra      F   \n",
      "12  A004  Project 13 3000000.00  Finished       Nina      Adgra      F   \n",
      "13  A005  Project 14  200000.00  Finished        Amy      Johny      F   \n",
      "\n",
      "       City  Age  DesignationLevel  \n",
      "0     Paris   25                 2  \n",
      "1    London   27                 2  \n",
      "2    Berlin   29                 3  \n",
      "3   Newyork   31                 2  \n",
      "4    Madrid   30                 3  \n",
      "5    London   27                 2  \n",
      "6    Madrid   30                 3  \n",
      "7    Berlin   29                 3  \n",
      "8     Paris   25                 2  \n",
      "9    Berlin   29                 3  \n",
      "10    Paris   25                 2  \n",
      "11  Newyork   31                 2  \n",
      "12  Newyork   31                 2  \n",
      "13   Madrid   30                 3  \n"
     ]
    }
   ],
   "source": [
    "# Task 4\n",
    "# Merge df1 and df2 on 'ID'\n",
    "merged_df = pd.merge(pd.merge(df_imported1, df_imported2, on='ID', how='inner'),df_imported3,on='ID', how='inner')\n",
    "final_df = merged_df\n",
    "\n",
    "# Display the merged DataFrame\n",
    "print(final_df)"
   ]
  },
  {
   "cell_type": "code",
   "execution_count": 10,
   "id": "995e8240-b82e-4564-b649-8a3c60853708",
   "metadata": {},
   "outputs": [
    {
     "name": "stdout",
     "output_type": "stream",
     "text": [
      "      ID     Project       Cost    Status First Name  Last Name Gender  \\\n",
      "0   A001   Project 1 1002000.00  Finished       John      Alter      M   \n",
      "1   A002   Project 2 2000000.00   Ongoing      Alice  Luxumberg      F   \n",
      "2   A003   Project 3 4500000.00  Finished        Tom  Sabestine      M   \n",
      "3   A004   Project 4 5500000.00   Ongoing       Nina      Adgra      F   \n",
      "4   A005   Project 5 3250500.00  Finished        Amy      Johny      F   \n",
      "5   A002   Project 6  680000.00    Failed      Alice  Luxumberg      F   \n",
      "6   A005   Project 7  400000.00  Finished        Amy      Johny      F   \n",
      "7   A003   Project 8  350000.00    Failed        Tom  Sabestine      M   \n",
      "8   A001   Project 9 2061714.29   Ongoing       John      Alter      M   \n",
      "9   A003  Project 10  300000.00  Finished        Tom  Sabestine      M   \n",
      "10  A001  Project 11 2000000.00    Failed       John      Alter      M   \n",
      "11  A004  Project 12 1000000.00   Ongoing       Nina      Adgra      F   \n",
      "12  A004  Project 13 3000000.00  Finished       Nina      Adgra      F   \n",
      "13  A005  Project 14  200000.00  Finished        Amy      Johny      F   \n",
      "\n",
      "       City  Age  DesignationLevel     Bonus  \n",
      "0     Paris   25                 2  50100.00  \n",
      "1    London   27                 2      0.00  \n",
      "2    Berlin   29                 3 225000.00  \n",
      "3   Newyork   31                 2      0.00  \n",
      "4    Madrid   30                 3 162525.00  \n",
      "5    London   27                 2      0.00  \n",
      "6    Madrid   30                 3  20000.00  \n",
      "7    Berlin   29                 3      0.00  \n",
      "8     Paris   25                 2      0.00  \n",
      "9    Berlin   29                 3  15000.00  \n",
      "10    Paris   25                 2      0.00  \n",
      "11  Newyork   31                 2      0.00  \n",
      "12  Newyork   31                 2 150000.00  \n",
      "13   Madrid   30                 3  10000.00  \n"
     ]
    }
   ],
   "source": [
    "# Task 5\n",
    "# Calculate the bonus: 5% of the Cost where Status is 'Finished'\n",
    "final_df['Bonus'] = final_df.apply(lambda row: 0.05 * row['Cost'] if row['Status'] == 'Finished' else 0, axis=1)\n",
    "\n",
    "# Print the updated DataFrame\n",
    "print(final_df)"
   ]
  },
  {
   "cell_type": "code",
   "execution_count": 11,
   "id": "22ae54ee-ee22-476a-9ef7-5a5f3f4754eb",
   "metadata": {},
   "outputs": [
    {
     "name": "stdout",
     "output_type": "stream",
     "text": [
      "      ID     Project       Cost    Status First Name  Last Name Gender  \\\n",
      "0   A001   Project 1 1002000.00  Finished       John      Alter      M   \n",
      "1   A002   Project 2 2000000.00   Ongoing      Alice  Luxumberg      F   \n",
      "2   A003   Project 3 4500000.00  Finished        Tom  Sabestine      M   \n",
      "3   A004   Project 4 5500000.00   Ongoing       Nina      Adgra      F   \n",
      "4   A005   Project 5 3250500.00  Finished        Amy      Johny      F   \n",
      "5   A002   Project 6  680000.00    Failed      Alice  Luxumberg      F   \n",
      "6   A005   Project 7  400000.00  Finished        Amy      Johny      F   \n",
      "7   A003   Project 8  350000.00    Failed        Tom  Sabestine      M   \n",
      "8   A001   Project 9 2061714.29   Ongoing       John      Alter      M   \n",
      "9   A003  Project 10  300000.00  Finished        Tom  Sabestine      M   \n",
      "10  A001  Project 11 2000000.00    Failed       John      Alter      M   \n",
      "11  A004  Project 12 1000000.00   Ongoing       Nina      Adgra      F   \n",
      "12  A004  Project 13 3000000.00  Finished       Nina      Adgra      F   \n",
      "13  A005  Project 14  200000.00  Finished        Amy      Johny      F   \n",
      "\n",
      "       City  Age  DesignationLevel     Bonus  \n",
      "0     Paris   25                 2  50100.00  \n",
      "1    London   27                 2      0.00  \n",
      "2    Berlin   29                 3 225000.00  \n",
      "3   Newyork   31                 2      0.00  \n",
      "4    Madrid   30                 3 162525.00  \n",
      "5    London   27                 3      0.00  \n",
      "6    Madrid   30                 3  20000.00  \n",
      "7    Berlin   29                 4      0.00  \n",
      "8     Paris   25                 2      0.00  \n",
      "9    Berlin   29                 3  15000.00  \n",
      "10    Paris   25                 3      0.00  \n",
      "11  Newyork   31                 2      0.00  \n",
      "12  Newyork   31                 2 150000.00  \n",
      "13   Madrid   30                 3  10000.00  \n"
     ]
    }
   ],
   "source": [
    "# Task 6\n",
    "# Demote Designation Level by 1 for failed projects\n",
    "final_df.loc[final_df['Status'] == 'Failed', 'DesignationLevel'] += 1\n",
    "\n",
    "# Delete records with DesignationLevel above 4\n",
    "final_df = final_df[final_df['DesignationLevel'] <= 4]\n",
    "\n",
    "# Print the updated DataFrame\n",
    "print(final_df)"
   ]
  },
  {
   "cell_type": "code",
   "execution_count": 12,
   "id": "76ad3dae-69b6-4ab0-a414-b934985c8596",
   "metadata": {},
   "outputs": [
    {
     "name": "stdout",
     "output_type": "stream",
     "text": [
      "      ID     Project       Cost    Status  First Name  Last Name     City  \\\n",
      "0   A001   Project 1 1002000.00  Finished    Mr. John      Alter    Paris   \n",
      "1   A002   Project 2 2000000.00   Ongoing  Mrs. Alice  Luxumberg   London   \n",
      "2   A003   Project 3 4500000.00  Finished     Mr. Tom  Sabestine   Berlin   \n",
      "3   A004   Project 4 5500000.00   Ongoing   Mrs. Nina      Adgra  Newyork   \n",
      "4   A005   Project 5 3250500.00  Finished    Mrs. Amy      Johny   Madrid   \n",
      "5   A002   Project 6  680000.00    Failed  Mrs. Alice  Luxumberg   London   \n",
      "6   A005   Project 7  400000.00  Finished    Mrs. Amy      Johny   Madrid   \n",
      "7   A003   Project 8  350000.00    Failed     Mr. Tom  Sabestine   Berlin   \n",
      "8   A001   Project 9 2061714.29   Ongoing    Mr. John      Alter    Paris   \n",
      "9   A003  Project 10  300000.00  Finished     Mr. Tom  Sabestine   Berlin   \n",
      "10  A001  Project 11 2000000.00    Failed    Mr. John      Alter    Paris   \n",
      "11  A004  Project 12 1000000.00   Ongoing   Mrs. Nina      Adgra  Newyork   \n",
      "12  A004  Project 13 3000000.00  Finished   Mrs. Nina      Adgra  Newyork   \n",
      "13  A005  Project 14  200000.00  Finished    Mrs. Amy      Johny   Madrid   \n",
      "\n",
      "    Age  DesignationLevel     Bonus  \n",
      "0    25                 2  50100.00  \n",
      "1    27                 2      0.00  \n",
      "2    29                 3 225000.00  \n",
      "3    31                 2      0.00  \n",
      "4    30                 3 162525.00  \n",
      "5    27                 3      0.00  \n",
      "6    30                 3  20000.00  \n",
      "7    29                 4      0.00  \n",
      "8    25                 2      0.00  \n",
      "9    29                 3  15000.00  \n",
      "10   25                 3      0.00  \n",
      "11   31                 2      0.00  \n",
      "12   31                 2 150000.00  \n",
      "13   30                 3  10000.00  \n"
     ]
    }
   ],
   "source": [
    "# Task 7\n",
    "# Add \"Mr.\" or \"Mrs.\" to the First Name column based on Gender\n",
    "final_df['First Name'] = final_df.apply(lambda row: f\"Mr. {row['First Name']}\" if row['Gender'] == 'M' else f\"Mrs. {row['First Name']}\", axis=1)\n",
    "\n",
    "# Drop the Gender column\n",
    "final_df.drop('Gender', axis=1, inplace=True)\n",
    "\n",
    "# Print the updated DataFrame\n",
    "print(final_df)"
   ]
  },
  {
   "cell_type": "code",
   "execution_count": 13,
   "id": "dd3b161d-0799-482b-8afd-81af37ff7c62",
   "metadata": {},
   "outputs": [
    {
     "name": "stdout",
     "output_type": "stream",
     "text": [
      "      ID     Project       Cost    Status  First Name  Last Name     City  \\\n",
      "0   A001   Project 1 1002000.00  Finished    Mr. John      Alter    Paris   \n",
      "1   A002   Project 2 2000000.00   Ongoing  Mrs. Alice  Luxumberg   London   \n",
      "2   A003   Project 3 4500000.00  Finished     Mr. Tom  Sabestine   Berlin   \n",
      "3   A004   Project 4 5500000.00   Ongoing   Mrs. Nina      Adgra  Newyork   \n",
      "4   A005   Project 5 3250500.00  Finished    Mrs. Amy      Johny   Madrid   \n",
      "5   A002   Project 6  680000.00    Failed  Mrs. Alice  Luxumberg   London   \n",
      "6   A005   Project 7  400000.00  Finished    Mrs. Amy      Johny   Madrid   \n",
      "7   A003   Project 8  350000.00    Failed     Mr. Tom  Sabestine   Berlin   \n",
      "8   A001   Project 9 2061714.29   Ongoing    Mr. John      Alter    Paris   \n",
      "9   A003  Project 10  300000.00  Finished     Mr. Tom  Sabestine   Berlin   \n",
      "10  A001  Project 11 2000000.00    Failed    Mr. John      Alter    Paris   \n",
      "11  A004  Project 12 1000000.00   Ongoing   Mrs. Nina      Adgra  Newyork   \n",
      "12  A004  Project 13 3000000.00  Finished   Mrs. Nina      Adgra  Newyork   \n",
      "13  A005  Project 14  200000.00  Finished    Mrs. Amy      Johny   Madrid   \n",
      "\n",
      "    Age  DesignationLevel     Bonus  \n",
      "0    25                 2  50100.00  \n",
      "1    27                 2      0.00  \n",
      "2    29                 3 225000.00  \n",
      "3    31                 1      0.00  \n",
      "4    30                 2 162525.00  \n",
      "5    27                 3      0.00  \n",
      "6    30                 2  20000.00  \n",
      "7    29                 4      0.00  \n",
      "8    25                 2      0.00  \n",
      "9    29                 3  15000.00  \n",
      "10   25                 3      0.00  \n",
      "11   31                 1      0.00  \n",
      "12   31                 1 150000.00  \n",
      "13   30                 2  10000.00  \n"
     ]
    }
   ],
   "source": [
    "# Task 8\n",
    "# Promote designation level by 1 for employees whose age is more than 29 years\n",
    "final_df['DesignationLevel'] = final_df.apply(lambda row: row['DesignationLevel'] - 1 if row['Age'] > 29 else row['DesignationLevel'], axis=1)\n",
    "\n",
    "# Ensure the DesignationLevel does not exceed the maximum allowed level (e.g., 1 if it's the highest)\n",
    "final_df['DesignationLevel'] = final_df['DesignationLevel'].apply(lambda x: max(x, 1))\n",
    "\n",
    "# Print the updated DataFrame\n",
    "print(final_df)"
   ]
  },
  {
   "cell_type": "code",
   "execution_count": 14,
   "id": "3290a40c-e3de-4bd4-804e-eb5a85c2b67e",
   "metadata": {},
   "outputs": [
    {
     "name": "stdout",
     "output_type": "stream",
     "text": [
      "     ID  First Name  Total Cost\n",
      "0  A001    Mr. John  5063714.29\n",
      "1  A002  Mrs. Alice  2680000.00\n",
      "2  A003     Mr. Tom  5150000.00\n",
      "3  A004   Mrs. Nina  9500000.00\n",
      "4  A005    Mrs. Amy  3850500.00\n"
     ]
    }
   ],
   "source": [
    "# Task 9\n",
    "# Group by 'ID' and 'First Name' and calculate the total project cost\n",
    "total_cost = final_df.groupby(['ID', 'First Name'])['Cost'].sum().reset_index()\n",
    "\n",
    "# Rename the columns\n",
    "total_cost.columns = ['ID', 'First Name', 'Total Cost']\n",
    "\n",
    "# Create the new DataFrame 'TotalProjCost'\n",
    "TotalProjCost = total_cost\n",
    "\n",
    "# Print the new DataFrame\n",
    "print(TotalProjCost)"
   ]
  },
  {
   "cell_type": "code",
   "execution_count": 15,
   "id": "56500360-98f4-4e3b-82d8-0aac3f461c1e",
   "metadata": {},
   "outputs": [
    {
     "name": "stdout",
     "output_type": "stream",
     "text": [
      "      ID     Project       Cost    Status  First Name  Last Name     City  \\\n",
      "1   A002   Project 2 2000000.00   Ongoing  Mrs. Alice  Luxumberg   London   \n",
      "3   A004   Project 4 5500000.00   Ongoing   Mrs. Nina      Adgra  Newyork   \n",
      "5   A002   Project 6  680000.00    Failed  Mrs. Alice  Luxumberg   London   \n",
      "11  A004  Project 12 1000000.00   Ongoing   Mrs. Nina      Adgra  Newyork   \n",
      "12  A004  Project 13 3000000.00  Finished   Mrs. Nina      Adgra  Newyork   \n",
      "\n",
      "    Age  DesignationLevel     Bonus  \n",
      "1    27                 2      0.00  \n",
      "3    31                 1      0.00  \n",
      "5    27                 3      0.00  \n",
      "11   31                 1      0.00  \n",
      "12   31                 1 150000.00  \n"
     ]
    }
   ],
   "source": [
    "# Task 10\n",
    "# Filter employees whose city name contains the letter 'o'\n",
    "employees_with_o_city = final_df[final_df['City'].str.contains('o', case=False, na=False)]\n",
    "\n",
    "# Print the filtered DataFrame\n",
    "print(employees_with_o_city)"
   ]
  },
  {
   "cell_type": "code",
   "execution_count": null,
   "id": "03f85062-02a8-4850-a9dc-6f1c09423fdd",
   "metadata": {},
   "outputs": [],
   "source": []
  }
 ],
 "metadata": {
  "kernelspec": {
   "display_name": "Python 3 (ipykernel)",
   "language": "python",
   "name": "python3"
  },
  "language_info": {
   "codemirror_mode": {
    "name": "ipython",
    "version": 3
   },
   "file_extension": ".py",
   "mimetype": "text/x-python",
   "name": "python",
   "nbconvert_exporter": "python",
   "pygments_lexer": "ipython3",
   "version": "3.12.4"
  }
 },
 "nbformat": 4,
 "nbformat_minor": 5
}
